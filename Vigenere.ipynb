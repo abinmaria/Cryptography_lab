{
  "nbformat": 4,
  "nbformat_minor": 0,
  "metadata": {
    "colab": {
      "provenance": [],
      "authorship_tag": "ABX9TyOKZ2kwPNCRHP4ZxYhsx8UK",
      "include_colab_link": true
    },
    "kernelspec": {
      "name": "python3",
      "display_name": "Python 3"
    },
    "language_info": {
      "name": "python"
    }
  },
  "cells": [
    {
      "cell_type": "markdown",
      "metadata": {
        "id": "view-in-github",
        "colab_type": "text"
      },
      "source": [
        "<a href=\"https://colab.research.google.com/github/abinmaria/Cryptography_lab/blob/main/Vigenere.ipynb\" target=\"_parent\"><img src=\"https://colab.research.google.com/assets/colab-badge.svg\" alt=\"Open In Colab\"/></a>"
      ]
    },
    {
      "cell_type": "code",
      "execution_count": null,
      "metadata": {
        "id": "_QGsNuq_D2IY"
      },
      "outputs": [],
      "source": [
        "# This function generates the key in a cyclic manner\n",
        "# until it's length isn't equal to the length of original text\n",
        "def generateKey(string, key):\n",
        "    new_key = key\n",
        "    if len(string) == len(key):\n",
        "        return key\n",
        "    else:\n",
        "        extra_len = len(string) - len(key)\n",
        "        for i in range(extra_len):\n",
        "            new_key = new_key + key[i % len(key)]\n",
        "    return new_key"
      ]
    },
    {
      "cell_type": "code",
      "source": [
        "# Encryption Function\n",
        "def cipherText(string, key):\n",
        "    string = string.upper()\n",
        "    key = key.upper()\n",
        "    cipher_text = \"\"\n",
        "    for i in range(len(string)):\n",
        "        char = string[i]\n",
        "        keychar = key[i]\n",
        "        new_value = chr((((ord(char) - 65) + (ord(keychar) - 65)) % 26) + 65)\n",
        "        cipher_text = cipher_text + new_value\n",
        "    return cipher_text\n"
      ],
      "metadata": {
        "id": "yVAuW5kREX8q"
      },
      "execution_count": null,
      "outputs": []
    },
    {
      "cell_type": "code",
      "source": [
        "# This function decrypts the encrypted text and returns the original text\n",
        "def originalText(cipher_text, key):\n",
        "    cipher_text = cipher_text.lower()\n",
        "    key = key.lower()\n",
        "    plaintext = \"\"\n",
        "    for i in range(len(cipher_text)):\n",
        "        char = cipher_text[i]\n",
        "        keychar = key[i]\n",
        "        new_value = chr((((ord(char) - 97) - (ord(keychar) - 97)) % 26) + 97)\n",
        "        plaintext = plaintext + new_value\n",
        "    return plaintext\n"
      ],
      "metadata": {
        "id": "eCi53XVuEcuO"
      },
      "execution_count": null,
      "outputs": []
    },
    {
      "cell_type": "code",
      "source": [
        "# Driver code\n",
        "if __name__ == \"__main__\":\n",
        "    string = input(\"Enter the string : \")\n",
        "    keyword = input(\"Enter the keyword string : \")\n",
        "    key = generateKey(string, keyword)\n",
        "    cipher_text = cipherText(string, key)\n",
        "    plaintext = originalText(cipher_text, key)\n",
        "    print(\"Ciphertext :\", cipher_text)\n",
        "    print(\"Original/Decrypted Text :\", plaintext)"
      ],
      "metadata": {
        "colab": {
          "base_uri": "https://localhost:8080/"
        },
        "id": "PghsE2oJEhxm",
        "outputId": "9685bb5c-71ed-4447-d75c-6617e9dbefcc"
      },
      "execution_count": null,
      "outputs": [
        {
          "output_type": "stream",
          "name": "stdout",
          "text": [
            "Enter the string : i love bangladesh\n",
            "Enter the keyword string : pascal\n",
            "Ciphertext : XTDQVPIBSPGWPDWUH\n",
            "Original/Decrypted Text : itlovetbangladesh\n"
          ]
        }
      ]
    }
  ]
}