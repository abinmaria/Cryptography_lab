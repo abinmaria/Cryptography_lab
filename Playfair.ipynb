{
  "nbformat": 4,
  "nbformat_minor": 0,
  "metadata": {
    "colab": {
      "provenance": [],
      "authorship_tag": "ABX9TyO1Oz9hQexKU5Pt+Q05Dz0W",
      "include_colab_link": true
    },
    "kernelspec": {
      "name": "python3",
      "display_name": "Python 3"
    },
    "language_info": {
      "name": "python"
    }
  },
  "cells": [
    {
      "cell_type": "markdown",
      "metadata": {
        "id": "view-in-github",
        "colab_type": "text"
      },
      "source": [
        "<a href=\"https://colab.research.google.com/github/abinmaria/Cryptography_lab/blob/main/Playfair.ipynb\" target=\"_parent\"><img src=\"https://colab.research.google.com/assets/colab-badge.svg\" alt=\"Open In Colab\"/></a>"
      ]
    },
    {
      "cell_type": "markdown",
      "source": [
        "# **Encryption**"
      ],
      "metadata": {
        "id": "C04DUvpNGfqx"
      }
    },
    {
      "cell_type": "code",
      "execution_count": null,
      "metadata": {
        "id": "Wfy_n8pfGQiG"
      },
      "outputs": [],
      "source": [
        "import numpy\n",
        "\n",
        "# Initialize the matrix\n",
        "matrix = numpy.array(\n",
        "    [\n",
        "        [\"p\", \"l\", \"a\", \"y\", \"f\"],\n",
        "        [\"i\", \"r\", \"e\", \"x\", \"m\"],\n",
        "        [\"b\", \"c\", \"d\", \"g\", \"h\"],\n",
        "        [\"k\", \"n\", \"o\", \"q\", \"s\"],\n",
        "        [\"t\", \"u\", \"v\", \"w\", \"z\"],\n",
        "    ]\n",
        ")\n",
        "\n",
        "# This line is for the transpose the matrix.\n",
        "result = numpy.transpose(matrix)"
      ]
    },
    {
      "cell_type": "code",
      "source": [
        "# Input PlainText.\n",
        "plaintext = \"lifeisbeautiful\"\n",
        "# This line replace all \"j\" in the plaintext to \"i\"\n",
        "plaintext = plaintext.replace(\"j\", \"i\")\n",
        "# This list is use for store the plaintext pair\n",
        "plaintextpair = []\n",
        "ciphertextpair = []"
      ],
      "metadata": {
        "id": "zgrmnll7Glzo"
      },
      "execution_count": null,
      "outputs": []
    },
    {
      "cell_type": "code",
      "source": [
        "# Apply Rule 1.\n",
        "# If both letter are same (or only one letter is left)\n",
        "# Add on \"X\" after the first letter.\n",
        "i = 0\n",
        "while i < len(plaintext):\n",
        "    a = plaintext[i]\n",
        "    b = \"\"\n",
        "\n",
        "    # If the letter is the last charater of the plaintext.\n",
        "    if (i + 1) == len(plaintext):\n",
        "        b = \"x\"\n",
        "    else:\n",
        "        b = plaintext[i + 1]\n",
        "        # If the two character is not same then this makes pair.\n",
        "    if a != b:\n",
        "        plaintextpair.append(a + b)\n",
        "        i += 2\n",
        "    else:\n",
        "        plaintextpair.append(a + \"x\")\n",
        "        i += 1\n",
        "ciphertext = \"\"\n",
        "for pair in plaintextpair:\n",
        "    applied_rule = True"
      ],
      "metadata": {
        "id": "4of6UyPCGoE3"
      },
      "execution_count": null,
      "outputs": []
    },
    {
      "cell_type": "code",
      "source": [
        "# Apply Rule 2.\n",
        "    # If the letters appear at the same row of the table\n",
        "    # Replace them with the letters to their immediate right respectively\n",
        "if applied_rule: #Removed the extra indentation from this line\n",
        "    for row in range(5):\n",
        "        if pair[0] in matrix[row] and pair[1] in matrix[row]:\n",
        "            for i in range(5):\n",
        "                if matrix[row][i] == pair[0]:\n",
        "                    j0 = i\n",
        "\n",
        "            for i in range(5):\n",
        "                if matrix[row][i] == pair[1]:\n",
        "                    j1 = i\n",
        "\n",
        "            applied_rule = False\n",
        "            ciphertextpair.append(\n",
        "                (matrix[row][(j0 + 1) % 5]) + (matrix[row][(j1 + 1) % 5])\n",
        "            )\n",
        "            ciphertext = (\n",
        "                ciphertext\n",
        "                + (matrix[row][(j0 + 1) % 5])\n",
        "                + (matrix[row][(j1 + 1) % 5])\n",
        "            )"
      ],
      "metadata": {
        "id": "eavGgBhsGuRb"
      },
      "execution_count": null,
      "outputs": []
    },
    {
      "cell_type": "code",
      "source": [
        "# Apply rule 3.\n",
        "    # If the letter appear on the same column of table.\n",
        "    # Replace them with the letter immediate below respectively\n",
        "if applied_rule: #Removed the extra indentation from this line\n",
        "    for row in range(5):\n",
        "        if pair[0] in result[row] and pair[1] in result[row]:\n",
        "            for i in range(5):\n",
        "                if matrix[i][row] == pair[0]:\n",
        "                    j0 = i\n",
        "\n",
        "                for i in range(5):\n",
        "                    if matrix[i][row] == pair[1]:\n",
        "                        j1 = i\n",
        "\n",
        "                applied_rule = False\n",
        "            ciphertextpair.append(\n",
        "                (matrix[(j0 + 1) % 5][row]) + (matrix[(j1 + 1) % 5][row])\n",
        "            )\n",
        "            ciphertext = (\n",
        "                ciphertext\n",
        "                + (matrix[(j0 + 1) % 5][row])\n",
        "                + (matrix[(j1 + 1) % 5][row])\n",
        "            )"
      ],
      "metadata": {
        "id": "RcU3yFVHGzC_"
      },
      "execution_count": null,
      "outputs": []
    },
    {
      "cell_type": "code",
      "source": [
        "# Apply rule 4\n",
        "    # If the letters are not in the same row or same column\n",
        "    # replace them with the letters on the same row respectively but at the\n",
        "    # other pair of the corners of the rectangle define by the orginal pair.\n",
        "#Removed the extra indent from this line\n",
        "if applied_rule:\n",
        "    for row in range(5):\n",
        "        for col in range(5):\n",
        "            if matrix[row][col] == pair[0]:\n",
        "                x0 = row\n",
        "                y0 = col\n",
        "    for row1 in range(5):\n",
        "        for col1 in range(5):\n",
        "            if matrix[row1][col1] == pair[1]:\n",
        "                x1 = row1\n",
        "                y1 = col1\n",
        "    ciphertextpair.append((matrix[x0][y1]) + (matrix[x1][y0]))\n",
        "    ciphertext = ciphertext + (matrix[x0][y1]) + (matrix[x1][y0])\n",
        "\n",
        "print(\"Given plaintext : \", plaintext)\n",
        "print(\"Ciphertext: \", ciphertext)"
      ],
      "metadata": {
        "colab": {
          "base_uri": "https://localhost:8080/"
        },
        "id": "zL78AuP4HkL8",
        "outputId": "e843bd69-1675-4025-b5d9-3dab41667be2"
      },
      "execution_count": null,
      "outputs": [
        {
          "output_type": "stream",
          "name": "stdout",
          "text": [
            "Given plaintext :  lifeisbeautiful\n",
            "Ciphertext:  yr\n"
          ]
        }
      ]
    },
    {
      "cell_type": "markdown",
      "source": [
        "# **Decryption**"
      ],
      "metadata": {
        "id": "Ug7X_-VbId6Z"
      }
    },
    {
      "cell_type": "code",
      "source": [
        "import numpy\n",
        "\n",
        "# Initialize the matrix\n",
        "matrix = numpy.array(\n",
        "    [\n",
        "        [\"p\", \"l\", \"a\", \"y\", \"f\"],\n",
        "        [\"i\", \"r\", \"e\", \"x\", \"m\"],\n",
        "        [\"b\", \"c\", \"d\", \"g\", \"h\"],\n",
        "        [\"k\", \"n\", \"o\", \"q\", \"s\"],\n",
        "        [\"t\", \"u\", \"v\", \"w\", \"z\"],\n",
        "    ]\n",
        ")\n",
        "# This line is for the transpose the matrix.\n",
        "result = numpy.transpose(matrix)\n",
        "\n",
        "# Given Ciphertext\n",
        "ciphertext = \"lifeisbeautiful\"\n",
        "# This line replace all \"j\" in the plaintext to \"i\"\n",
        "ciphertext = ciphertext.replace(\"j\", \"i\")\n",
        "# This list is use for store the ciphertext and plaintext pair\n",
        "ciphertextpair = []\n",
        "plaintextpair = []"
      ],
      "metadata": {
        "id": "9deywFGFIVUp"
      },
      "execution_count": null,
      "outputs": []
    },
    {
      "cell_type": "code",
      "source": [
        "# Apply Rule 1.\n",
        "# make the pair of two letter.\n",
        "i = 0\n",
        "while i < len(ciphertext):\n",
        "    a = ciphertext[i]\n",
        "    b = ciphertext[i + 1]\n",
        "\n",
        "    ciphertextpair.append(a + b)\n",
        "    i = i + 2\n",
        "plaintext = \"\"\n",
        "for pair in ciphertextpair:\n",
        "    applied_rule = True"
      ],
      "metadata": {
        "colab": {
          "base_uri": "https://localhost:8080/",
          "height": 211
        },
        "id": "V2V-h87xIutX",
        "outputId": "67fd4322-cad7-4c71-a7ba-b423bcb4f9b7"
      },
      "execution_count": null,
      "outputs": [
        {
          "output_type": "error",
          "ename": "IndexError",
          "evalue": "string index out of range",
          "traceback": [
            "\u001b[0;31m---------------------------------------------------------------------------\u001b[0m",
            "\u001b[0;31mIndexError\u001b[0m                                Traceback (most recent call last)",
            "\u001b[0;32m<ipython-input-23-f99dce5e8583>\u001b[0m in \u001b[0;36m<cell line: 4>\u001b[0;34m()\u001b[0m\n\u001b[1;32m      4\u001b[0m \u001b[0;32mwhile\u001b[0m \u001b[0mi\u001b[0m \u001b[0;34m<\u001b[0m \u001b[0mlen\u001b[0m\u001b[0;34m(\u001b[0m\u001b[0mciphertext\u001b[0m\u001b[0;34m)\u001b[0m\u001b[0;34m:\u001b[0m\u001b[0;34m\u001b[0m\u001b[0;34m\u001b[0m\u001b[0m\n\u001b[1;32m      5\u001b[0m     \u001b[0ma\u001b[0m \u001b[0;34m=\u001b[0m \u001b[0mciphertext\u001b[0m\u001b[0;34m[\u001b[0m\u001b[0mi\u001b[0m\u001b[0;34m]\u001b[0m\u001b[0;34m\u001b[0m\u001b[0;34m\u001b[0m\u001b[0m\n\u001b[0;32m----> 6\u001b[0;31m     \u001b[0mb\u001b[0m \u001b[0;34m=\u001b[0m \u001b[0mciphertext\u001b[0m\u001b[0;34m[\u001b[0m\u001b[0mi\u001b[0m \u001b[0;34m+\u001b[0m \u001b[0;36m1\u001b[0m\u001b[0;34m]\u001b[0m\u001b[0;34m\u001b[0m\u001b[0;34m\u001b[0m\u001b[0m\n\u001b[0m\u001b[1;32m      7\u001b[0m \u001b[0;34m\u001b[0m\u001b[0m\n\u001b[1;32m      8\u001b[0m     \u001b[0mciphertextpair\u001b[0m\u001b[0;34m.\u001b[0m\u001b[0mappend\u001b[0m\u001b[0;34m(\u001b[0m\u001b[0ma\u001b[0m \u001b[0;34m+\u001b[0m \u001b[0mb\u001b[0m\u001b[0;34m)\u001b[0m\u001b[0;34m\u001b[0m\u001b[0;34m\u001b[0m\u001b[0m\n",
            "\u001b[0;31mIndexError\u001b[0m: string index out of range"
          ]
        }
      ]
    },
    {
      "cell_type": "code",
      "source": [
        "# Apply Rule 2.\n",
        "    # If the letters appear at the same row of the table\n",
        "    # Replace them with the letters to their immediate left respectively\n",
        "if applied_rule:\n",
        "        for row in range(5):\n",
        "            if pair[0] in matrix[row] and pair[1] in matrix[row]:\n",
        "                for i in range(5):\n",
        "                    if matrix[row][i] == pair[0]:\n",
        "                        j0 = i\n",
        "\n",
        "                for i in range(5):\n",
        "                    if matrix[row][i] == pair[1]:\n",
        "                        j1 = i\n",
        "\n",
        "                applied_rule = False\n",
        "                plaintextpair.append(\n",
        "                    (matrix[row][(j0 - 1) % 5]) + (matrix[row][(j1 - 1) % 5])\n",
        "                )\n",
        "                plaintext += (matrix[row][(j0 - 1) % 5]) + (matrix[row][(j1 - 1) % 5])"
      ],
      "metadata": {
        "id": "e6w7lt1vI4iY"
      },
      "execution_count": null,
      "outputs": []
    },
    {
      "cell_type": "code",
      "source": [
        "# Apply rule 3.\n",
        "    # If the letter appear on the same column of table.\n",
        "    # Replace them with the letter immediate upper respectively\n",
        "if applied_rule:\n",
        "        for row in range(5):\n",
        "            if pair[0] in result[row] and pair[1] in result[row]:\n",
        "                for i in range(5):\n",
        "                    if matrix[i][row] == pair[0]:\n",
        "                        j0 = i\n",
        "\n",
        "                    for i in range(5):\n",
        "                        if matrix[i][row] == pair[1]:\n",
        "                            j1 = i\n",
        "\n",
        "                    applied_rule = False\n",
        "                plaintextpair.append(\n",
        "                    (matrix[(j0 - 1) % 5][row]) + (matrix[(j1 - 1) % 5][row])\n",
        "                )\n",
        "                plaintext += (matrix[(j0 - 1) % 5][row]) + (matrix[(j1 - 1) % 5][row])"
      ],
      "metadata": {
        "id": "Ispr-w8iI90O"
      },
      "execution_count": null,
      "outputs": []
    },
    {
      "cell_type": "code",
      "source": [
        " # Apply rule 4.\n",
        "    # If the letters are not in the same row or same column\n",
        "    # replace them with the letters on the same row respectively but at the\n",
        "    # other pair of the corners of the rectangle define by the orginal pair.\n",
        "if applied_rule:\n",
        "        for row in range(5):\n",
        "            for col in range(5):\n",
        "                if matrix[row][col] == pair[0]:\n",
        "                    x0 = row\n",
        "                    y0 = col\n",
        "            for row1 in range(5):\n",
        "                for col1 in range(5):\n",
        "                    if matrix[row1][col1] == pair[1]:\n",
        "                        x1 = row1\n",
        "                        y1 = col1\n",
        "        plaintextpair.append((matrix[x0][y1]) + (matrix[x1][y0]))\n",
        "        plaintext += (matrix[x0][y1]) + (matrix[x1][y0])\n",
        "\n",
        "print(\"Given ciphertext: \", ciphertext)\n",
        "print(\"Decoded plaintext : \", plaintext)"
      ],
      "metadata": {
        "colab": {
          "base_uri": "https://localhost:8080/"
        },
        "id": "Z3scxYLcJLUR",
        "outputId": "5255042b-98b9-4daf-caef-b0b2d9ec7312"
      },
      "execution_count": null,
      "outputs": [
        {
          "output_type": "stream",
          "name": "stdout",
          "text": [
            "Given ciphertext:  lifeisbeautiful\n",
            "Decoded plaintext :  mpmp\n"
          ]
        }
      ]
    },
    {
      "cell_type": "code",
      "source": [],
      "metadata": {
        "id": "UOpflMZWJPp4"
      },
      "execution_count": null,
      "outputs": []
    }
  ]
}