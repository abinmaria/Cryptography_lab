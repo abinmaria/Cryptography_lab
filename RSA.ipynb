{
  "nbformat": 4,
  "nbformat_minor": 0,
  "metadata": {
    "colab": {
      "provenance": [],
      "authorship_tag": "ABX9TyMgniBxBdSpIlat8QwcH2Fu",
      "include_colab_link": true
    },
    "kernelspec": {
      "name": "python3",
      "display_name": "Python 3"
    },
    "language_info": {
      "name": "python"
    }
  },
  "cells": [
    {
      "cell_type": "markdown",
      "metadata": {
        "id": "view-in-github",
        "colab_type": "text"
      },
      "source": [
        "<a href=\"https://colab.research.google.com/github/abinmaria/Cryptography_lab/blob/main/RSA.ipynb\" target=\"_parent\"><img src=\"https://colab.research.google.com/assets/colab-badge.svg\" alt=\"Open In Colab\"/></a>"
      ]
    },
    {
      "cell_type": "code",
      "execution_count": null,
      "metadata": {
        "id": "kcyPT1E8DVju"
      },
      "outputs": [],
      "source": []
    },
    {
      "cell_type": "code",
      "execution_count": null,
      "metadata": {
        "id": "0rd6YmDLBNgJ"
      },
      "outputs": [],
      "source": [
        "#A Python Code for Encryption Using RSA Algorithm\n",
        "from Crypto.PublicKey import RSA\n",
        "from Crypto.Cipher import PKCS1_OAEP"
      ]
    },
    {
      "cell_type": "code",
      "source": [
        "!pip install pycryptodome"
      ],
      "metadata": {
        "colab": {
          "base_uri": "https://localhost:8080/"
        },
        "id": "ct04ybXFDzoI",
        "outputId": "88276da0-5a1c-4c73-ac26-7076d830a1b0"
      },
      "execution_count": null,
      "outputs": [
        {
          "output_type": "stream",
          "name": "stdout",
          "text": [
            "Collecting pycryptodome\n",
            "  Downloading pycryptodome-3.20.0-cp35-abi3-manylinux_2_17_x86_64.manylinux2014_x86_64.whl.metadata (3.4 kB)\n",
            "Downloading pycryptodome-3.20.0-cp35-abi3-manylinux_2_17_x86_64.manylinux2014_x86_64.whl (2.1 MB)\n",
            "\u001b[2K   \u001b[90m━━━━━━━━━━━━━━━━━━━━━━━━━━━━━━━━━━━━━━━━\u001b[0m \u001b[32m2.1/2.1 MB\u001b[0m \u001b[31m19.1 MB/s\u001b[0m eta \u001b[36m0:00:00\u001b[0m\n",
            "\u001b[?25hInstalling collected packages: pycryptodome\n",
            "Successfully installed pycryptodome-3.20.0\n"
          ]
        }
      ]
    },
    {
      "cell_type": "code",
      "source": [
        "#Function for generating public and private key\n",
        "def generate_key_pair():\n",
        "    key = RSA.generate(2048)\n",
        "    public_key = key.publickey().export_key()\n",
        "    private_key = key.export_key()\n",
        "    return public_key, private_key"
      ],
      "metadata": {
        "id": "qPAearuPBell"
      },
      "execution_count": null,
      "outputs": []
    },
    {
      "cell_type": "code",
      "source": [
        "#Encryption Function\n",
        "def encrypt(message, public_key):\n",
        "    cipher = PKCS1_OAEP.new(RSA.import_key(public_key))\n",
        "    encrypted_message = cipher.encrypt(message)\n",
        "    return encrypted_message"
      ],
      "metadata": {
        "id": "r71EK1TdBspX"
      },
      "execution_count": null,
      "outputs": []
    },
    {
      "cell_type": "code",
      "source": [
        "#Decryption Function\n",
        "def decrypt(encrypted_message, private_key):\n",
        "    cipher = PKCS1_OAEP.new(RSA.import_key(private_key))\n",
        "    decrypted_message = cipher.decrypt(encrypted_message)\n",
        "    return decrypted_message"
      ],
      "metadata": {
        "id": "anJfNQ7jBxQr"
      },
      "execution_count": null,
      "outputs": []
    },
    {
      "cell_type": "code",
      "source": [
        "# Example usage\n",
        "plaintext = b\"This is a secret\"\n",
        "print(\"Plaintext:\", plaintext)\n",
        "print(\"----output----\")\n",
        "# Generate key pair\n",
        "public_key, private_key = generate_key_pair()\n",
        "# Encrypt the message\n",
        "encrypted_message = encrypt(plaintext, public_key)\n",
        "print(\"Encrypted message:\", encrypted_message.hex())\n",
        "# Decrypt the message\n",
        "decrypted_message = decrypt(encrypted_message, private_key)\n",
        "print(\"Decrypted message:\", decrypted_message.decode())"
      ],
      "metadata": {
        "id": "uqsvGC6dB0bx",
        "colab": {
          "base_uri": "https://localhost:8080/"
        },
        "outputId": "3a4b453e-d7f7-4757-c8ac-0e362ad1635c"
      },
      "execution_count": null,
      "outputs": [
        {
          "output_type": "stream",
          "name": "stdout",
          "text": [
            "Plaintext: b'This is a secret'\n",
            "----output----\n",
            "Encrypted message: 8deca7fd58408b4a8c3584465c6bd742631d3b561d8149fddc7afa18f41cd5e0b5482161efa3e7d210f7ddb93369e76cbcfa3ddb7a94a1455180bbb9a18bd36afadcceef7c22e18248bd763b17c33dc5d3f719ec8cf22c4d4d004333598f2be9a93df3932f2037e8e688f39bd5a0e3d81084e14274f2e7f4ad3c0a2543d66f8779efcbda76746b8f1f67d6834029b961ebe5ccf9180c686ffe3c95e07923e32b4a15b8a109540c944a6a30ae8b437e77e6db6a9a20d66dc09fce3137c2638d2c48176d01a32bbf07883b3d473990b2df692d86f2289a846a082f3d2d2a230bf7d42e1c4ce364b9d4fed4862b416de48003d38b956646ac7990bcfa323e30c360\n",
            "Decrypted message: This is a secret\n"
          ]
        }
      ]
    }
  ]
}