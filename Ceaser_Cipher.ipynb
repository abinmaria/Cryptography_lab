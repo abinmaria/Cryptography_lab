{
  "nbformat": 4,
  "nbformat_minor": 0,
  "metadata": {
    "colab": {
      "provenance": [],
      "authorship_tag": "ABX9TyNwD2D73McKXROTpcHj/o2w",
      "include_colab_link": true
    },
    "kernelspec": {
      "name": "python3",
      "display_name": "Python 3"
    },
    "language_info": {
      "name": "python"
    }
  },
  "cells": [
    {
      "cell_type": "markdown",
      "metadata": {
        "id": "view-in-github",
        "colab_type": "text"
      },
      "source": [
        "<a href=\"https://colab.research.google.com/github/abinmaria/Cryptography_lab/blob/main/Ceaser_Cipher.ipynb\" target=\"_parent\"><img src=\"https://colab.research.google.com/assets/colab-badge.svg\" alt=\"Open In Colab\"/></a>"
      ]
    },
    {
      "cell_type": "code",
      "execution_count": null,
      "metadata": {
        "id": "cIKJGSMZ37Qx"
      },
      "outputs": [],
      "source": [
        "#Encryption Function\n",
        "def encrypt(plaintext,key):\n",
        "    plaintext = plaintext.upper()\n",
        "    ciphertext = \"\"\n",
        "    for i in range(len(plaintext)):\n",
        "        char = plaintext[i]\n",
        "        if char == ' ':\n",
        "            shifted_char = char\n",
        "        else:\n",
        "            shifted_char = chr((ord(char) - 65 + key) % 26)\n",
        "            shifted_char = chr(ord(shifted_char) + 65)\n",
        "        ciphertext = ciphertext + shifted_char\n",
        "    return ciphertext"
      ]
    },
    {
      "cell_type": "code",
      "source": [
        "#Decryption Function\n",
        "def decrypt(ciphertext,key):\n",
        "    ciphertext = ciphertext.lower()\n",
        "    decrypted_text = \"\"\n",
        "    for i in range(len(ciphertext)):\n",
        "        char = ciphertext[i]\n",
        "        if char == ' ':\n",
        "            shifted_char = char\n",
        "        else:\n",
        "            shifted_char = chr((ord(char) - 97 - key) % 26)\n",
        "            shifted_char = chr(ord(shifted_char) + 97)\n",
        "        decrypted_text = decrypted_text + shifted_char\n",
        "    return decrypted_text"
      ],
      "metadata": {
        "id": "dQ6NfkLn50zz"
      },
      "execution_count": null,
      "outputs": []
    },
    {
      "cell_type": "code",
      "source": [
        "#Input\n",
        "plaintext = input(\"Enter the plaintext: \")\n",
        "print(\"Entered plaintext = \" + plaintext)\n",
        "key = int(input(\"Enter the key: \"))\n",
        "print(\"Entered key = \" + str(key))\n",
        "#Output\n",
        "ciphertext = encrypt(plaintext, key)\n",
        "print(\"Ciphertext = \" + ciphertext)\n",
        "decrypted_text = decrypt(ciphertext, key)\n",
        "print(\"Decrypted text = \" + decrypted_text)"
      ],
      "metadata": {
        "colab": {
          "base_uri": "https://localhost:8080/"
        },
        "id": "dKfZ17pV52ww",
        "outputId": "4339d9e2-e909-4e6a-9b59-5c2ed1404d6c"
      },
      "execution_count": null,
      "outputs": [
        {
          "output_type": "stream",
          "name": "stdout",
          "text": [
            "Enter the plaintext: i am human\n",
            "Entered plaintext = i am human\n",
            "Enter the key: 3\n",
            "Entered key = 3\n",
            "Ciphertext = L DP KXPDQ\n",
            "Decrypted text = i am human\n"
          ]
        }
      ]
    }
  ]
}