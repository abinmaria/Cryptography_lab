{
  "nbformat": 4,
  "nbformat_minor": 0,
  "metadata": {
    "colab": {
      "provenance": [],
      "authorship_tag": "ABX9TyOEz08OInzmsdXZXgezqLEx",
      "include_colab_link": true
    },
    "kernelspec": {
      "name": "python3",
      "display_name": "Python 3"
    },
    "language_info": {
      "name": "python"
    }
  },
  "cells": [
    {
      "cell_type": "markdown",
      "metadata": {
        "id": "view-in-github",
        "colab_type": "text"
      },
      "source": [
        "<a href=\"https://colab.research.google.com/github/abinmaria/Cryptography_lab/blob/main/Affine.ipynb\" target=\"_parent\"><img src=\"https://colab.research.google.com/assets/colab-badge.svg\" alt=\"Open In Colab\"/></a>"
      ]
    },
    {
      "cell_type": "code",
      "execution_count": null,
      "metadata": {
        "id": "26StFGia6O8J"
      },
      "outputs": [],
      "source": [
        "#Encryption Function\n",
        "def encryption(plaintext, key1, key2):\n",
        "    text = plaintext.lower()\n",
        "    ciphertext = \"\"\n",
        "    for char in text:\n",
        "        order = ord(char)\n",
        "        #Range for lowercase letter is 97 to 122\n",
        "        if order>=97 and order<=122:\n",
        "            order = order - 97\n",
        "            order = ((order * key1) + key2) % 26\n",
        "            order = order + 97\n",
        "            new_char = chr(order)\n",
        "            ciphertext = ciphertext + new_char\n",
        "        else :\n",
        "            ciphertext = ciphertext + char\n",
        "    return ciphertext"
      ]
    },
    {
      "cell_type": "code",
      "source": [
        "#Decrption Function\n",
        "def decryption(ciphertext, key1, key2):\n",
        "    text = ciphertext.upper()\n",
        "    #finding the inverse of key1 mod 26\n",
        "    key1_inv = pow(key1, -1, 26)\n",
        "    plaintext = \"\"\n",
        "    for char in text:\n",
        "        order = ord(char)\n",
        "        #Range for uppercase letter is 65 to 90\n",
        "        if order>=65 and order<=90:\n",
        "            order = order - 65\n",
        "            order = ((order - key2) * key1_inv) % 26\n",
        "            order = order + 65\n",
        "            new_char = chr(order)\n",
        "            plaintext = plaintext + new_char\n",
        "        else:\n",
        "            plaintext = plaintext + char\n",
        "    return plaintext"
      ],
      "metadata": {
        "id": "OkcO1K-Q6r3H"
      },
      "execution_count": null,
      "outputs": []
    },
    {
      "cell_type": "code",
      "source": [
        "#Input section\n",
        "plaintext = input(\"Enter the plaintext: \")\n",
        "key1 = int(input(\"Enter the first key: \"))\n",
        "key2 = int(input(\"Enter the second key : \"))\n",
        "\n",
        "#Function calling\n",
        "ciphertext = encryption(plaintext, key1, key2)\n",
        "decrypted_text = decryption(ciphertext, key1, key2)\n",
        "\n",
        "#Output Section\n",
        "print(\"Entered plaintext: \", plaintext)\n",
        "print(\"Entered keys are: \\nkey1 = \", key1, \"\\nkey2 = \", key2)\n",
        "print(\"Ciphertext : \", ciphertext)\n",
        "print(\"Decrypted text : \", decrypted_text)"
      ],
      "metadata": {
        "colab": {
          "base_uri": "https://localhost:8080/"
        },
        "id": "8SvdGrza6vIX",
        "outputId": "f419b3be-b833-4cd6-823c-52e265f7ef30"
      },
      "execution_count": null,
      "outputs": [
        {
          "output_type": "stream",
          "name": "stdout",
          "text": [
            "Enter the plaintext: i love my country\n",
            "Enter the first key: 7\n",
            "Enter the second key : 2\n",
            "Entered plaintext:  i love my country\n",
            "Entered keys are: \n",
            "key1 =  7 \n",
            "key2 =  2\n",
            "Ciphertext :  g bwte io qwmpfro\n",
            "Decrypted text :  I LOVE MY COUNTRY\n"
          ]
        }
      ]
    }
  ]
}