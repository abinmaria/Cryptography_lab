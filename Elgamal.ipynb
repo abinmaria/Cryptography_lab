{
  "nbformat": 4,
  "nbformat_minor": 0,
  "metadata": {
    "colab": {
      "provenance": [],
      "authorship_tag": "ABX9TyPGhM6oEMmJzZ4G95EU65qP",
      "include_colab_link": true
    },
    "kernelspec": {
      "name": "python3",
      "display_name": "Python 3"
    },
    "language_info": {
      "name": "python"
    }
  },
  "cells": [
    {
      "cell_type": "markdown",
      "metadata": {
        "id": "view-in-github",
        "colab_type": "text"
      },
      "source": [
        "<a href=\"https://colab.research.google.com/github/abinmaria/Cryptography_lab/blob/main/Elgamal.ipynb\" target=\"_parent\"><img src=\"https://colab.research.google.com/assets/colab-badge.svg\" alt=\"Open In Colab\"/></a>"
      ]
    },
    {
      "cell_type": "code",
      "execution_count": null,
      "metadata": {
        "id": "V26pT6B2CL9k"
      },
      "outputs": [],
      "source": [
        "# Sympy is a Python library for symbolic mathematics.\n",
        "from sympy import primitive_root,randprime\n",
        "import random"
      ]
    },
    {
      "cell_type": "code",
      "source": [
        "# The number for which you want to find the primitive root\n",
        "prime = randprime(124,10**3)\n",
        "root = primitive_root(prime)\n",
        "d=random.randint(1,(prime-2)) # It is private key.\n",
        "e=(pow(root,d)%prime)  # It is public key.\n",
        "r=random.randint(1,10)  # Select a random integer.\n",
        "#Define the plaintext.\n",
        "plaintext = \"Secret message\""
      ],
      "metadata": {
        "id": "fv5k082fCl4b"
      },
      "execution_count": null,
      "outputs": []
    },
    {
      "cell_type": "code",
      "source": [
        "# Encryption Algorithm.\n",
        "ciphertext=[]\n",
        "for char in plaintext:\n",
        "  ciphertext1=(pow(root,r)%prime)\n",
        "  ciphertext2=((ord(char)*pow(e,r))%prime)\n",
        "  ciphertext.append((ciphertext1,ciphertext2))\n",
        "print(ciphertext)"
      ],
      "metadata": {
        "colab": {
          "base_uri": "https://localhost:8080/"
        },
        "id": "0G_kOftcC07R",
        "outputId": "e046cca2-a91c-4a2c-eacf-96b9e699f7d4"
      },
      "execution_count": null,
      "outputs": [
        {
          "output_type": "stream",
          "name": "stdout",
          "text": [
            "[(12, 102), (12, 104), (12, 11), (12, 124), (12, 104), (12, 50), (12, 152), (12, 142), (12, 104), (12, 87), (12, 87), (12, 85), (12, 30), (12, 104)]\n"
          ]
        }
      ]
    },
    {
      "cell_type": "code",
      "source": [
        "#Decryption Algorithm\n",
        "plaintext=\"\"\n",
        "for pair in ciphertext:\n",
        "  ciphertext1,ciphertext2=pair\n",
        "  value=pow(ciphertext1,d)\n",
        "  multinv = pow(value,-1,prime)\n",
        "  decrypt_char = (ciphertext2*multinv) % prime\n",
        "  plaintext += chr(decrypt_char)\n",
        "print(plaintext)"
      ],
      "metadata": {
        "colab": {
          "base_uri": "https://localhost:8080/"
        },
        "id": "HlE0HioPDWW8",
        "outputId": "3b089d72-af8a-472a-cbdb-177282af0472"
      },
      "execution_count": null,
      "outputs": [
        {
          "output_type": "stream",
          "name": "stdout",
          "text": [
            "Secret message\n"
          ]
        }
      ]
    }
  ]
}