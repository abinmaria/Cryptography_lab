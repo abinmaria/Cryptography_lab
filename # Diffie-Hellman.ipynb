{
 "cells": [
  {
   "cell_type": "code",
   "execution_count": 1,
   "id": "74d9a44f-88be-4d05-b197-3c2e99ed9074",
   "metadata": {},
   "outputs": [
    {
     "name": "stdout",
     "output_type": "stream",
     "text": [
      "Prime number (P): 23\n",
      "Generator value (G): 9\n",
      "Alice's private key (a): 4\n",
      "Bob's private key (b): 3\n",
      "Secret key for Alice: 9\n",
      "Secret key for Bob: 9\n"
     ]
    }
   ],
   "source": [
    "# Power function to return value of a^b mod P\n",
    "def calculate_power(base, exponent, modulus):\n",
    "   \"\"\"Power function to return value of (base ^ exponent) mod modulus.\"\"\"\n",
    "   if exponent == 1:\n",
    "      return base\n",
    "   else:\n",
    "      return pow(base, exponent) % modulus\n",
    "\n",
    "# Driver code\n",
    "if __name__ == \"__main__\":\n",
    "   prime = 23\n",
    "   generator = 9\n",
    "   private_key_alice = 4\n",
    "   private_key_bob = 3\n",
    "\n",
    "   # Generating public keys\n",
    "   x = calculate_power(generator, private_key_alice, prime)\n",
    "   y = calculate_power(generator, private_key_bob, prime)\n",
    "\n",
    "   # Generating secret keys after the exchange of keys\n",
    "   secret_key_alice = calculate_power(y, private_key_alice, prime)\n",
    "   secret_key_bob = calculate_power(x, private_key_bob, prime)\n",
    "\n",
    "   # Output\n",
    "   print(\"Prime number (P):\", prime)\n",
    "   print(\"Generator value (G):\", generator)\n",
    "   print(\"Alice's private key (a):\", private_key_alice)\n",
    "   print(\"Bob's private key (b):\", private_key_bob)\n",
    "   print(\"Secret key for Alice:\", secret_key_alice)\n",
    "   print(\"Secret key for Bob:\", secret_key_bob)"
   ]
  },
  {
   "cell_type": "code",
   "execution_count": null,
   "id": "a11ff175-5f4d-4323-899b-771a18983515",
   "metadata": {},
   "outputs": [],
   "source": []
  }
 ],
 "metadata": {
  "kernelspec": {
   "display_name": "Python 3 (ipykernel)",
   "language": "python",
   "name": "python3"
  },
  "language_info": {
   "codemirror_mode": {
    "name": "ipython",
    "version": 3
   },
   "file_extension": ".py",
   "mimetype": "text/x-python",
   "name": "python",
   "nbconvert_exporter": "python",
   "pygments_lexer": "ipython3",
   "version": "3.11.7"
  }
 },
 "nbformat": 4,
 "nbformat_minor": 5
}
