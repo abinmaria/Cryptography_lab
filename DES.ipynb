{
 "cells": [
  {
   "cell_type": "code",
   "execution_count": 3,
   "id": "b7d5072a-295c-40ee-b9be-98920edc4eca",
   "metadata": {},
   "outputs": [
    {
     "name": "stdout",
     "output_type": "stream",
     "text": [
      "Original text: Top secrets\n",
      "Encrypted text: fll2tbCEmdjFJxYm4NfGwg==\n",
      "Decrypted text: Top secrets\n"
     ]
    }
   ],
   "source": [
    "import base64\n",
    "from Crypto.Cipher import DES\n",
    "\n",
    "# This is the key for encryption (must be 8 bytes long)\n",
    "key = b'paragon3'\n",
    "\n",
    "# This function is for adding extra text to the plaintext if it does not fill the block\n",
    "# The block size is 64 bits (8 bytes)\n",
    "def pad(text):\n",
    "    while len(text) % 8 != 0:\n",
    "        text = text + ' '\n",
    "    return text\n",
    "\n",
    "# This function removes the padding from the decrypted text\n",
    "def unpad(text):\n",
    "    return text.rstrip()\n",
    "\n",
    "# Encrypt function\n",
    "def encrypt(plain_text, key):\n",
    "    des = DES.new(key, DES.MODE_ECB)\n",
    "    padded_text = pad(plain_text)\n",
    "    encrypted_text = des.encrypt(padded_text.encode('utf-8'))\n",
    "    return base64.b64encode(encrypted_text).decode('utf-8')\n",
    "\n",
    "# Decrypt function\n",
    "def decrypt(encrypted_text, key):\n",
    "    des = DES.new(key, DES.MODE_ECB)\n",
    "    decoded_encrypted_text = base64.b64decode(encrypted_text)\n",
    "    decrypted_text = des.decrypt(decoded_encrypted_text).decode('utf-8')\n",
    "    return unpad(decrypted_text)\n",
    "\n",
    "\n",
    "plain_text = \"Top secrets\"\n",
    "print(f\"Original text: {plain_text}\")\n",
    "\n",
    "encrypted_text = encrypt(plain_text, key)\n",
    "print(f\"Encrypted text: {encrypted_text}\")\n",
    "\n",
    "decrypted_text = decrypt(encrypted_text, key)\n",
    "print(f\"Decrypted text: {decrypted_text}\")\n"
   ]
  },
  {
   "cell_type": "code",
   "execution_count": null,
   "id": "30694bc9-a8b1-474f-a460-5d9521bdade0",
   "metadata": {},
   "outputs": [],
   "source": []
  }
 ],
 "metadata": {
  "kernelspec": {
   "display_name": "Python 3 (ipykernel)",
   "language": "python",
   "name": "python3"
  },
  "language_info": {
   "codemirror_mode": {
    "name": "ipython",
    "version": 3
   },
   "file_extension": ".py",
   "mimetype": "text/x-python",
   "name": "python",
   "nbconvert_exporter": "python",
   "pygments_lexer": "ipython3",
   "version": "3.11.7"
  }
 },
 "nbformat": 4,
 "nbformat_minor": 5
}
