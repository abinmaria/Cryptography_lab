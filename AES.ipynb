{
 "cells": [
  {
   "cell_type": "code",
   "execution_count": 3,
   "id": "b8c55334-889a-4cd9-bed2-7887a5e1c074",
   "metadata": {},
   "outputs": [
    {
     "name": "stdout",
     "output_type": "stream",
     "text": [
      "Collecting pycryptodome\n",
      "  Downloading pycryptodome-3.21.0-cp36-abi3-win_amd64.whl.metadata (3.4 kB)\n",
      "Downloading pycryptodome-3.21.0-cp36-abi3-win_amd64.whl (1.8 MB)\n",
      "   ---------------------------------------- 0.0/1.8 MB ? eta -:--:--\n",
      "   ---------------------------------------- 0.0/1.8 MB ? eta -:--:--\n",
      "    --------------------------------------- 0.0/1.8 MB 330.3 kB/s eta 0:00:06\n",
      "    --------------------------------------- 0.0/1.8 MB 245.8 kB/s eta 0:00:08\n",
      "   - -------------------------------------- 0.1/1.8 MB 409.6 kB/s eta 0:00:05\n",
      "   -- ------------------------------------- 0.1/1.8 MB 554.9 kB/s eta 0:00:04\n",
      "   --- ------------------------------------ 0.1/1.8 MB 607.9 kB/s eta 0:00:03\n",
      "   --- ------------------------------------ 0.2/1.8 MB 583.1 kB/s eta 0:00:03\n",
      "   --- ------------------------------------ 0.2/1.8 MB 583.1 kB/s eta 0:00:03\n",
      "   ---- ----------------------------------- 0.2/1.8 MB 497.6 kB/s eta 0:00:04\n",
      "   ----- ---------------------------------- 0.2/1.8 MB 515.5 kB/s eta 0:00:04\n",
      "   ------ --------------------------------- 0.3/1.8 MB 593.9 kB/s eta 0:00:03\n",
      "   -------- ------------------------------- 0.4/1.8 MB 675.0 kB/s eta 0:00:03\n",
      "   --------- ------------------------------ 0.4/1.8 MB 744.1 kB/s eta 0:00:02\n",
      "   ----------- ---------------------------- 0.5/1.8 MB 798.8 kB/s eta 0:00:02\n",
      "   ------------ --------------------------- 0.6/1.8 MB 815.7 kB/s eta 0:00:02\n",
      "   ------------- -------------------------- 0.6/1.8 MB 805.5 kB/s eta 0:00:02\n",
      "   --------------- ------------------------ 0.7/1.8 MB 860.8 kB/s eta 0:00:02\n",
      "   ---------------- ----------------------- 0.7/1.8 MB 873.6 kB/s eta 0:00:02\n",
      "   ----------------- ---------------------- 0.8/1.8 MB 896.4 kB/s eta 0:00:02\n",
      "   ------------------- -------------------- 0.9/1.8 MB 944.0 kB/s eta 0:00:01\n",
      "   --------------------- ------------------ 1.0/1.8 MB 982.8 kB/s eta 0:00:01\n",
      "   --------------------- ------------------ 1.0/1.8 MB 978.2 kB/s eta 0:00:01\n",
      "   ------------------------ --------------- 1.1/1.8 MB 1.0 MB/s eta 0:00:01\n",
      "   ------------------------- -------------- 1.1/1.8 MB 1.0 MB/s eta 0:00:01\n",
      "   -------------------------- ------------- 1.2/1.8 MB 1.0 MB/s eta 0:00:01\n",
      "   -------------------------- ------------- 1.2/1.8 MB 1.0 MB/s eta 0:00:01\n",
      "   ----------------------------- ---------- 1.3/1.8 MB 1.0 MB/s eta 0:00:01\n",
      "   ----------------------------- ---------- 1.3/1.8 MB 1.0 MB/s eta 0:00:01\n",
      "   ----------------------------- ---------- 1.3/1.8 MB 1.0 MB/s eta 0:00:01\n",
      "   ----------------------------- ---------- 1.4/1.8 MB 987.1 kB/s eta 0:00:01\n",
      "   ------------------------------ --------- 1.4/1.8 MB 965.0 kB/s eta 0:00:01\n",
      "   ------------------------------- -------- 1.4/1.8 MB 979.6 kB/s eta 0:00:01\n",
      "   ------------------------------- -------- 1.4/1.8 MB 979.6 kB/s eta 0:00:01\n",
      "   ------------------------------- -------- 1.4/1.8 MB 979.6 kB/s eta 0:00:01\n",
      "   -------------------------------- ------- 1.5/1.8 MB 897.4 kB/s eta 0:00:01\n",
      "   -------------------------------- ------- 1.5/1.8 MB 886.1 kB/s eta 0:00:01\n",
      "   --------------------------------- ------ 1.5/1.8 MB 877.9 kB/s eta 0:00:01\n",
      "   --------------------------------- ------ 1.5/1.8 MB 858.2 kB/s eta 0:00:01\n",
      "   ---------------------------------- ----- 1.5/1.8 MB 862.4 kB/s eta 0:00:01\n",
      "   ---------------------------------- ----- 1.6/1.8 MB 866.2 kB/s eta 0:00:01\n",
      "   ----------------------------------- ---- 1.6/1.8 MB 853.8 kB/s eta 0:00:01\n",
      "   ----------------------------------- ---- 1.6/1.8 MB 836.5 kB/s eta 0:00:01\n",
      "   ----------------------------------- ---- 1.6/1.8 MB 836.5 kB/s eta 0:00:01\n",
      "   ----------------------------------- ---- 1.6/1.8 MB 815.5 kB/s eta 0:00:01\n",
      "   ----------------------------------- ---- 1.6/1.8 MB 815.5 kB/s eta 0:00:01\n",
      "   ------------------------------------ --- 1.6/1.8 MB 782.4 kB/s eta 0:00:01\n",
      "   ------------------------------------ --- 1.6/1.8 MB 782.4 kB/s eta 0:00:01\n",
      "   ------------------------------------- -- 1.7/1.8 MB 767.0 kB/s eta 0:00:01\n",
      "   ------------------------------------- -- 1.7/1.8 MB 760.9 kB/s eta 0:00:01\n",
      "   ---------------------------------------  1.8/1.8 MB 766.8 kB/s eta 0:00:01\n",
      "   ---------------------------------------  1.8/1.8 MB 760.1 kB/s eta 0:00:01\n",
      "   ---------------------------------------  1.8/1.8 MB 760.1 kB/s eta 0:00:01\n",
      "   ---------------------------------------  1.8/1.8 MB 760.1 kB/s eta 0:00:01\n",
      "   ---------------------------------------- 1.8/1.8 MB 734.9 kB/s eta 0:00:00\n",
      "Installing collected packages: pycryptodome\n",
      "Successfully installed pycryptodome-3.21.0\n",
      "Note: you may need to restart the kernel to use updated packages.\n"
     ]
    }
   ],
   "source": [
    "pip install pycryptodome\n"
   ]
  },
  {
   "cell_type": "code",
   "execution_count": 4,
   "id": "bf38e9d5-83cc-4544-8a83-03ec22fd229e",
   "metadata": {},
   "outputs": [
    {
     "name": "stdout",
     "output_type": "stream",
     "text": [
      "Ciphertext :  b'p8uWJgzQtaqvF11U2hm9i2LxlEXAkvSm'\n",
      "Tag :  b']l\\r\\xae8\\x81\\x8b4j}b\\xa3g\\x0f\\x18S'\n",
      "Decrypted text:  This is a secret message\n"
     ]
    }
   ],
   "source": [
    "import base64\n",
    "from Crypto.Cipher import AES \n",
    "from Crypto.Random import get_random_bytes\n",
    "\n",
    "plaintext = b'This is a secret message'\n",
    "# The get_random_bytes() function takes a parameter that specifies the desired length of the random byte string to generate.\n",
    "#In this case, the parameter is 16, which corresponds to 16 bytes or 128 bits.\n",
    "key = get_random_bytes(16)\n",
    "\n",
    "# Create an AES cipher object with a 128-bit key\n",
    "cipher = AES.new(key, AES.MODE_EAX)\n",
    "# Encrypt the plaintext\n",
    "# The authentication tag provides a unique identifier for the encrypted data, ensuring that it has not been tampered with or modified.\n",
    "ciphertext, tag = cipher.encrypt_and_digest(plaintext)\n",
    "\n",
    "# Print the encrypted ciphertext and tag\n",
    "print(\"Ciphertext : \", base64.b64encode(ciphertext))\n",
    "print(\"Tag : \", tag)\n",
    "\n",
    "decrypt_cipher = AES.new(key, AES.MODE_EAX, nonce=cipher.nonce)\n",
    "decrypted_text =decrypt_cipher.decrypt_and_verify(ciphertext, tag)\n",
    "print(\"Decrypted text: \", decrypted_text.decode())\n",
    "Ciphertext :  b'28J/2i8J42YGe9Fw5QSpINbMAxYo7Gb1'"
   ]
  },
  {
   "cell_type": "code",
   "execution_count": null,
   "id": "f20c5a94-8659-483e-a59a-abef4664b44a",
   "metadata": {},
   "outputs": [],
   "source": []
  }
 ],
 "metadata": {
  "kernelspec": {
   "display_name": "Python 3 (ipykernel)",
   "language": "python",
   "name": "python3"
  },
  "language_info": {
   "codemirror_mode": {
    "name": "ipython",
    "version": 3
   },
   "file_extension": ".py",
   "mimetype": "text/x-python",
   "name": "python",
   "nbconvert_exporter": "python",
   "pygments_lexer": "ipython3",
   "version": "3.11.7"
  }
 },
 "nbformat": 4,
 "nbformat_minor": 5
}
