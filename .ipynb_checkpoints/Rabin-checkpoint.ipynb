{
 "cells": [
  {
   "cell_type": "code",
   "execution_count": 1,
   "id": "43108f3d-64cf-4a74-be0b-b984d93c4cb1",
   "metadata": {},
   "outputs": [],
   "source": [
    "import random\n",
    "def key_generation(p, q):\n",
    "    n = p * q  \n",
    "    return (p, q), n \n",
    "\n",
    "def encryption(n, M):\n",
    "    C = pow(M, 2, n)\n",
    "    return C\n",
    "\n",
    "def extended_gcd(a, b):\n",
    "    if b == 0:\n",
    "        return a, 1, 0\n",
    "    gcd, x1, y1 = extended_gcd(b, a % b)\n",
    "    x = y1\n",
    "    y = x1 - (a // b) * y1\n",
    "    return gcd, x, y\n",
    "def decryption(p, q, C):\n",
    "   \n",
    "    a1 = pow(C, (p + 1) // 4, p) \n",
    "    b1 = pow(C, (q + 1) // 4, q) \n",
    "\n",
    "    gcd, M1, M2 = extended_gcd(p, q)\n",
    "\n",
    "    r1 = (M1 * p * b1 + M2 * q * a1) % (p * q)\n",
    "    r2 = (M1 * p * b1 - M2 * q * a1) % (p * q)\n",
    "    r3 = (-r1) % (p * q)\n",
    "    r4 = (-r2) % (p * q)\n",
    "\n",
    "    return r1, r2, r3, r4"
   ]
  },
  {
   "cell_type": "code",
   "execution_count": 4,
   "id": "95c7a0a9-4fb3-4c6d-bd88-8f5227ba5530",
   "metadata": {},
   "outputs": [
    {
     "name": "stdout",
     "output_type": "stream",
     "text": [
      "Enter two prime numbers (p and q): \n"
     ]
    },
    {
     "name": "stdin",
     "output_type": "stream",
     "text": [
      " 7\n",
      " 3\n"
     ]
    },
    {
     "name": "stdout",
     "output_type": "stream",
     "text": [
      "Public key (n): 21, Private key (p, q): (7, 3)\n"
     ]
    },
    {
     "name": "stdin",
     "output_type": "stream",
     "text": [
      "Enter the plaintext (as an integer):  2456\n"
     ]
    },
    {
     "name": "stdout",
     "output_type": "stream",
     "text": [
      "Ciphertext: 1\n",
      "Possible plaintexts: 1, 13, 20, 8\n"
     ]
    }
   ],
   "source": [
    "print(\"Enter two prime numbers (p and q): \")\n",
    "p = int(input()) \n",
    "q = int(input())  \n",
    "\n",
    "privateKey, publicKey = key_generation(p, q)\n",
    "print(f\"Public key (n): {publicKey}, Private key (p, q): {privateKey}\")\n",
    "\n",
    "M = int(input(\"Enter the plaintext (as an integer): \"))\n",
    "C = encryption(publicKey, M)\n",
    "print(\"Ciphertext: \"+str(C))\n",
    "\n",
    "r1, r2, r3, r4 = decryption(privateKey[0], privateKey[1], C)\n",
    "print(f\"Possible plaintexts: {r1}, {r2}, {r3}, {r4}\")"
   ]
  },
  {
   "cell_type": "code",
   "execution_count": null,
   "id": "6f7fe204-59ff-4bf0-8a2e-cae23de18910",
   "metadata": {},
   "outputs": [],
   "source": []
  }
 ],
 "metadata": {
  "kernelspec": {
   "display_name": "Python 3 (ipykernel)",
   "language": "python",
   "name": "python3"
  },
  "language_info": {
   "codemirror_mode": {
    "name": "ipython",
    "version": 3
   },
   "file_extension": ".py",
   "mimetype": "text/x-python",
   "name": "python",
   "nbconvert_exporter": "python",
   "pygments_lexer": "ipython3",
   "version": "3.11.7"
  }
 },
 "nbformat": 4,
 "nbformat_minor": 5
}
