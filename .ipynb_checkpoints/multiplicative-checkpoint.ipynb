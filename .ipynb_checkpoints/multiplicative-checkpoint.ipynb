{
 "cells": [
  {
   "cell_type": "code",
   "execution_count": 1,
   "id": "c18fdff0-c11d-4aeb-981c-d5c53efe550c",
   "metadata": {},
   "outputs": [],
   "source": [
    "def encryption(plaintext,k):\n",
    "    r=\"\"\n",
    "    for i in range(len(plaintext)):\n",
    "        char=plaintext[i]\n",
    "        if(char.isalpha()):\n",
    "            r+=chr(((ord(char.upper())-65)*k)%26+65)\n",
    "        else:\n",
    "            r+=char\n",
    "    return r\n",
    "def decryption(ciphetext,k):\n",
    "    r=\"\"\n",
    "    k2=pow(k,-1,26)\n",
    "    for i in range(len(ciphertext)):\n",
    "        char=ciphertext[i]\n",
    "        if(char.isalpha()):\n",
    "            r+=chr(((ord(char.upper())-65)*k2)%26+97)\n",
    "        else:\n",
    "            r+=char\n",
    "    return r\n"
   ]
  },
  {
   "cell_type": "code",
   "execution_count": 2,
   "id": "0ea7bd80-67d4-471b-8591-dbfd943ef0c0",
   "metadata": {},
   "outputs": [
    {
     "name": "stdin",
     "output_type": "stream",
     "text": [
      "enter plaintest humanbeing\n",
      "enter key  5\n"
     ]
    },
    {
     "name": "stdout",
     "output_type": "stream",
     "text": [
      "plaintext : humanbeing\n",
      "key : 5\n",
      "After eencrypion Ciphertext :JWIANFUONE\n",
      "After decryption Plaintext :humanbeing\n"
     ]
    }
   ],
   "source": [
    "text=input (\"enter plaintext\")\n",
    "key=int(input(\"enter key \"))\n",
    "print(\"plaintext : \"+text)\n",
    "print(\"key : \"+str(key))\n",
    "ciphertext=encryption(text,key)\n",
    "print(\"After eencrypion Ciphertext :\"+encryption(text,key))\n",
    "print(\"After decryption Plaintext :\"+decryption(ciphertext,key))"
   ]
  },
  {
   "cell_type": "code",
   "execution_count": null,
   "id": "746fea6b-fe08-4e49-a95d-d8e4aadbd131",
   "metadata": {},
   "outputs": [],
   "source": []
  }
 ],
 "metadata": {
  "kernelspec": {
   "display_name": "Python 3 (ipykernel)",
   "language": "python",
   "name": "python3"
  },
  "language_info": {
   "codemirror_mode": {
    "name": "ipython",
    "version": 3
   },
   "file_extension": ".py",
   "mimetype": "text/x-python",
   "name": "python",
   "nbconvert_exporter": "python",
   "pygments_lexer": "ipython3",
   "version": "3.11.7"
  }
 },
 "nbformat": 4,
 "nbformat_minor": 5
}
